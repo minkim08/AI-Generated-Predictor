version https://git-lfs.github.com/spec/v1
oid sha256:9f1889206f9e62b21ee8da87955aef23829b01f9d72f8cc4fa9f4a3948678876
size 170602
